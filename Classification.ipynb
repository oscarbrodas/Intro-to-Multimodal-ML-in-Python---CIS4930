{
 "cells": [
  {
   "cell_type": "markdown",
   "id": "09cd3410",
   "metadata": {},
   "source": [
    "# Classification"
   ]
  },
  {
   "cell_type": "code",
   "execution_count": 62,
   "id": "fe2c818b",
   "metadata": {},
   "outputs": [],
   "source": [
    "import numpy as np \n",
    "import pandas as pd \n",
    "import matplotlib.pyplot as plt\n",
    "import seaborn as sns"
   ]
  },
  {
   "cell_type": "code",
   "execution_count": 63,
   "id": "f2a17194",
   "metadata": {},
   "outputs": [
    {
     "data": {
      "text/html": [
       "<div>\n",
       "<style scoped>\n",
       "    .dataframe tbody tr th:only-of-type {\n",
       "        vertical-align: middle;\n",
       "    }\n",
       "\n",
       "    .dataframe tbody tr th {\n",
       "        vertical-align: top;\n",
       "    }\n",
       "\n",
       "    .dataframe thead th {\n",
       "        text-align: right;\n",
       "    }\n",
       "</style>\n",
       "<table border=\"1\" class=\"dataframe\">\n",
       "  <thead>\n",
       "    <tr style=\"text-align: right;\">\n",
       "      <th></th>\n",
       "      <th>Purchase</th>\n",
       "      <th>SUS</th>\n",
       "      <th>Duration</th>\n",
       "      <th>Gender</th>\n",
       "      <th>ASR_Error</th>\n",
       "      <th>Intent_Error</th>\n",
       "    </tr>\n",
       "  </thead>\n",
       "  <tbody>\n",
       "    <tr>\n",
       "      <th>0</th>\n",
       "      <td>1</td>\n",
       "      <td>84</td>\n",
       "      <td>254</td>\n",
       "      <td>0</td>\n",
       "      <td>3</td>\n",
       "      <td>2</td>\n",
       "    </tr>\n",
       "    <tr>\n",
       "      <th>1</th>\n",
       "      <td>0</td>\n",
       "      <td>58</td>\n",
       "      <td>247</td>\n",
       "      <td>0</td>\n",
       "      <td>6</td>\n",
       "      <td>9</td>\n",
       "    </tr>\n",
       "    <tr>\n",
       "      <th>2</th>\n",
       "      <td>0</td>\n",
       "      <td>56</td>\n",
       "      <td>125</td>\n",
       "      <td>1</td>\n",
       "      <td>6</td>\n",
       "      <td>8</td>\n",
       "    </tr>\n",
       "    <tr>\n",
       "      <th>3</th>\n",
       "      <td>0</td>\n",
       "      <td>55</td>\n",
       "      <td>22</td>\n",
       "      <td>0</td>\n",
       "      <td>11</td>\n",
       "      <td>7</td>\n",
       "    </tr>\n",
       "    <tr>\n",
       "      <th>4</th>\n",
       "      <td>1</td>\n",
       "      <td>95</td>\n",
       "      <td>262</td>\n",
       "      <td>0</td>\n",
       "      <td>2</td>\n",
       "      <td>3</td>\n",
       "    </tr>\n",
       "    <tr>\n",
       "      <th>...</th>\n",
       "      <td>...</td>\n",
       "      <td>...</td>\n",
       "      <td>...</td>\n",
       "      <td>...</td>\n",
       "      <td>...</td>\n",
       "      <td>...</td>\n",
       "    </tr>\n",
       "    <tr>\n",
       "      <th>95</th>\n",
       "      <td>0</td>\n",
       "      <td>57</td>\n",
       "      <td>358</td>\n",
       "      <td>0</td>\n",
       "      <td>13</td>\n",
       "      <td>7</td>\n",
       "    </tr>\n",
       "    <tr>\n",
       "      <th>96</th>\n",
       "      <td>1</td>\n",
       "      <td>93</td>\n",
       "      <td>71</td>\n",
       "      <td>0</td>\n",
       "      <td>3</td>\n",
       "      <td>0</td>\n",
       "    </tr>\n",
       "    <tr>\n",
       "      <th>97</th>\n",
       "      <td>0</td>\n",
       "      <td>80</td>\n",
       "      <td>34</td>\n",
       "      <td>1</td>\n",
       "      <td>0</td>\n",
       "      <td>9</td>\n",
       "    </tr>\n",
       "    <tr>\n",
       "      <th>98</th>\n",
       "      <td>1</td>\n",
       "      <td>82</td>\n",
       "      <td>49</td>\n",
       "      <td>1</td>\n",
       "      <td>4</td>\n",
       "      <td>1</td>\n",
       "    </tr>\n",
       "    <tr>\n",
       "      <th>99</th>\n",
       "      <td>1</td>\n",
       "      <td>78</td>\n",
       "      <td>213</td>\n",
       "      <td>0</td>\n",
       "      <td>1</td>\n",
       "      <td>4</td>\n",
       "    </tr>\n",
       "  </tbody>\n",
       "</table>\n",
       "<p>100 rows × 6 columns</p>\n",
       "</div>"
      ],
      "text/plain": [
       "    Purchase  SUS  Duration  Gender  ASR_Error  Intent_Error\n",
       "0          1   84       254       0          3             2\n",
       "1          0   58       247       0          6             9\n",
       "2          0   56       125       1          6             8\n",
       "3          0   55        22       0         11             7\n",
       "4          1   95       262       0          2             3\n",
       "..       ...  ...       ...     ...        ...           ...\n",
       "95         0   57       358       0         13             7\n",
       "96         1   93        71       0          3             0\n",
       "97         0   80        34       1          0             9\n",
       "98         1   82        49       1          4             1\n",
       "99         1   78       213       0          1             4\n",
       "\n",
       "[100 rows x 6 columns]"
      ]
     },
     "execution_count": 63,
     "metadata": {},
     "output_type": "execute_result"
    }
   ],
   "source": [
    "df = pd.read_csv('data.csv')\n",
    "# Exclude empty column \n",
    "df = df.drop('Unnamed: 6', axis = 1)\n",
    "df"
   ]
  },
  {
   "cell_type": "code",
   "execution_count": 64,
   "id": "66b6a3ea",
   "metadata": {},
   "outputs": [
    {
     "data": {
      "text/plain": [
       "Purchase        0\n",
       "SUS             0\n",
       "Duration        0\n",
       "Gender          0\n",
       "ASR_Error       0\n",
       "Intent_Error    0\n",
       "dtype: int64"
      ]
     },
     "execution_count": 64,
     "metadata": {},
     "output_type": "execute_result"
    }
   ],
   "source": [
    "df.isna().sum()\n",
    "# No empty fields"
   ]
  },
  {
   "cell_type": "code",
   "execution_count": 65,
   "id": "eb3d84d9",
   "metadata": {},
   "outputs": [
    {
     "data": {
      "text/plain": [
       "array([1, 0, 0, 0, 1, 0, 0, 0, 0, 0, 0, 1, 0, 1, 1, 0, 1, 1, 1, 0, 0, 0,\n",
       "       1, 1, 0, 1, 0, 1, 0, 0, 0, 0, 1, 1, 1, 1, 0, 1, 1, 1, 0, 1, 1, 1,\n",
       "       1, 1, 1, 1, 1, 1, 0, 0, 1, 0, 1, 0, 1, 0, 1, 0, 1, 0, 0, 0, 0, 0,\n",
       "       0, 0, 1, 1, 1, 1, 1, 1, 0, 0, 0, 0, 0, 0, 0, 0, 0, 0, 1, 0, 1, 1,\n",
       "       1, 0, 0, 1, 1, 1, 0, 0, 1, 0, 1, 1], dtype=int64)"
      ]
     },
     "execution_count": 65,
     "metadata": {},
     "output_type": "execute_result"
    }
   ],
   "source": [
    "# label/Classes (Purchase- 0/1)\n",
    "# Load classes as an array\n",
    "y = df[\"Purchase\"].to_numpy()\n",
    "y"
   ]
  },
  {
   "cell_type": "code",
   "execution_count": 66,
   "id": "6e210f31",
   "metadata": {},
   "outputs": [
    {
     "data": {
      "text/plain": [
       "array([[254,   0,   3,   2],\n",
       "       [247,   0,   6,   9],\n",
       "       [125,   1,   6,   8],\n",
       "       [ 22,   0,  11,   7],\n",
       "       [262,   0,   2,   3],\n",
       "       [113,   1,   8,   9],\n",
       "       [ 91,   1,   6,   3],\n",
       "       [ 46,   0,   6,  11],\n",
       "       [132,   0,   9,   9],\n",
       "       [190,   0,  11,   4],\n",
       "       [146,   0,   9,   7],\n",
       "       [226,   0,   4,   4],\n",
       "       [ 54,   1,   7,   9],\n",
       "       [104,   0,   2,   3],\n",
       "       [292,   0,   7,   3],\n",
       "       [126,   0,   8,   9],\n",
       "       [152,   1,   3,   5],\n",
       "       [221,   0,   3,   4],\n",
       "       [ 51,   0,   9,   9],\n",
       "       [230,   0,   6,   8],\n",
       "       [ 72,   1,   6,   8],\n",
       "       [284,   0,   6,  11],\n",
       "       [168,   0,   2,   4],\n",
       "       [194,   0,   1,   3],\n",
       "       [130,   1,  10,   1],\n",
       "       [227,   0,   9,   3],\n",
       "       [161,   1,   7,   8],\n",
       "       [262,   1,   2,   3],\n",
       "       [257,   1,   9,  11],\n",
       "       [ 57,   1,   8,   3],\n",
       "       [138,   0,   8,   9],\n",
       "       [ 33,   1,   9,   4],\n",
       "       [260,   0,   1,   2],\n",
       "       [178,   1,   3,   4],\n",
       "       [153,   0,   2,   4],\n",
       "       [151,   0,   2,   3],\n",
       "       [ 67,   0,   8,   9],\n",
       "       [284,   1,   2,   2],\n",
       "       [ 96,   1,   3,   1],\n",
       "       [ 31,   0,   1,   3],\n",
       "       [100,   0,  12,   9],\n",
       "       [200,   0,   2,   3],\n",
       "       [ 24,   1,   1,   2],\n",
       "       [169,   0,   1,   3],\n",
       "       [110,   0,   1,   3],\n",
       "       [184,   1,   2,   3],\n",
       "       [234,   1,   2,   5],\n",
       "       [ 90,   1,   5,   3],\n",
       "       [202,   1,   3,   3],\n",
       "       [254,   0,   3,   3],\n",
       "       [259,   0,   9,   6],\n",
       "       [193,   1,  11,   5],\n",
       "       [258,   0,   6,   5],\n",
       "       [117,   1,   6,   7],\n",
       "       [297,   1,   3,   4],\n",
       "       [218,   1,  12,   9],\n",
       "       [119,   0,   0,   8],\n",
       "       [ 54,   1,   8,   6],\n",
       "       [143,   1,   0,   4],\n",
       "       [300,   1,   9,  11],\n",
       "       [ 43,   0,   3,   4],\n",
       "       [ 28,   0,   7,   6],\n",
       "       [357,   1,   9,   4],\n",
       "       [ 21,   0,  13,   7],\n",
       "       [100,   0,   7,   9],\n",
       "       [303,   1,   9,   8],\n",
       "       [ 56,   1,   6,  10],\n",
       "       [205,   0,   5,  12],\n",
       "       [104,   0,   4,   1],\n",
       "       [342,   0,   1,   3],\n",
       "       [ 78,   0,   3,   2],\n",
       "       [ 56,   0,   6,   5],\n",
       "       [297,   1,   2,   1],\n",
       "       [ 56,   0,   5,   4],\n",
       "       [365,   0,   4,   3],\n",
       "       [275,   0,  11,   6],\n",
       "       [198,   1,   9,   9],\n",
       "       [224,   0,  12,  12],\n",
       "       [326,   0,   7,   7],\n",
       "       [ 23,   0,  14,   9],\n",
       "       [ 78,   1,   9,  10],\n",
       "       [108,   0,   6,  11],\n",
       "       [326,   0,  13,   7],\n",
       "       [ 61,   0,  10,   8],\n",
       "       [ 48,   1,   1,   5],\n",
       "       [ 90,   0,  11,   4],\n",
       "       [ 87,   1,   0,   1],\n",
       "       [ 65,   1,   2,   2],\n",
       "       [ 22,   1,   3,   0],\n",
       "       [ 10,   1,   9,   9],\n",
       "       [ 45,   0,   5,   8],\n",
       "       [ 69,   1,   4,   0],\n",
       "       [ 57,   0,   1,   1],\n",
       "       [208,   1,   0,   4],\n",
       "       [197,   0,  11,  10],\n",
       "       [358,   0,  13,   7],\n",
       "       [ 71,   0,   3,   0],\n",
       "       [ 34,   1,   0,   9],\n",
       "       [ 49,   1,   4,   1],\n",
       "       [213,   0,   1,   4]], dtype=int64)"
      ]
     },
     "execution_count": 66,
     "metadata": {},
     "output_type": "execute_result"
    }
   ],
   "source": [
    "# data (ASR_Error, IntentError, Duration, and Gender)\n",
    "# Load data as an array\n",
    "x = df.drop([\"Purchase\", \"SUS\"], axis = 1).to_numpy()\n",
    "x"
   ]
  },
  {
   "cell_type": "code",
   "execution_count": 67,
   "id": "f4e892cf",
   "metadata": {},
   "outputs": [],
   "source": [
    "from sklearn.preprocessing import StandardScaler\n",
    "from sklearn import linear_model\n",
    "from sklearn.model_selection import train_test_split\n",
    "\n",
    "scale = StandardScaler()\n",
    "scaled_X = scale.fit_transform(x)\n",
    "\n",
    "# 70 % training, 30% testing  \n",
    "X_train, X_test, y_train, y_test = train_test_split(scaled_X, y, test_size = 0.3)"
   ]
  },
  {
   "cell_type": "code",
   "execution_count": 68,
   "id": "a4efc809",
   "metadata": {},
   "outputs": [],
   "source": [
    "import matplotlib.pyplot as plt\n",
    "from sklearn.metrics import ConfusionMatrixDisplay, confusion_matrix, roc_curve, auc, classification_report\n",
    "# plt for plots and metrics for confusion matricies and roc curves\n"
   ]
  },
  {
   "cell_type": "markdown",
   "id": "c1b4c22f",
   "metadata": {},
   "source": [
    "# 1. Logistic Regression"
   ]
  },
  {
   "cell_type": "code",
   "execution_count": 69,
   "id": "657ac236",
   "metadata": {},
   "outputs": [
    {
     "name": "stdout",
     "output_type": "stream",
     "text": [
      "[1 0 0 1 1 0 1 1 0 0 0 1 0 1 0 1 0 1 0 1 1 1 0 0 1 0 0 1 1 1]\n",
      "[[0.41810932 0.58189068]\n",
      " [0.9948629  0.0051371 ]\n",
      " [0.93165034 0.06834966]\n",
      " [0.01995445 0.98004555]\n",
      " [0.07720659 0.92279341]\n",
      " [0.97337843 0.02662157]\n",
      " [0.04394828 0.95605172]\n",
      " [0.04983002 0.95016998]\n",
      " [0.56971526 0.43028474]\n",
      " [0.98710709 0.01289291]\n",
      " [0.98753786 0.01246214]\n",
      " [0.31715595 0.68284405]\n",
      " [0.57928914 0.42071086]\n",
      " [0.25965848 0.74034152]\n",
      " [0.98681383 0.01318617]\n",
      " [0.22709966 0.77290034]\n",
      " [0.8853509  0.1146491 ]\n",
      " [0.06497664 0.93502336]\n",
      " [0.93648557 0.06351443]\n",
      " [0.18134761 0.81865239]\n",
      " [0.03977446 0.96022554]\n",
      " [0.11235969 0.88764031]\n",
      " [0.9254423  0.0745577 ]\n",
      " [0.94775003 0.05224997]\n",
      " [0.03230092 0.96769908]\n",
      " [0.79743291 0.20256709]\n",
      " [0.88718732 0.11281268]\n",
      " [0.06694064 0.93305936]\n",
      " [0.16846832 0.83153168]\n",
      " [0.02351687 0.97648313]]\n"
     ]
    }
   ],
   "source": [
    "from sklearn.linear_model import LogisticRegression\n",
    "\n",
    "lc = LogisticRegression()\n",
    "lc.fit(X_train, y_train)\n",
    "\n",
    "# Actual Predictions from Logistic Regression\n",
    "y_lc_predicted = lc.predict(X_test)\n",
    "# Probablilty of Assurance\n",
    "y_lc_pred_proba = lc.predict_proba(X_test)\n",
    "\n",
    "print(y_lc_predicted)\n",
    "print(y_lc_pred_proba)"
   ]
  },
  {
   "cell_type": "code",
   "execution_count": 70,
   "id": "3acb0088",
   "metadata": {},
   "outputs": [
    {
     "name": "stdout",
     "output_type": "stream",
     "text": [
      "              precision    recall  f1-score   support\n",
      "\n",
      "           0       1.00      0.93      0.97        15\n",
      "           1       0.94      1.00      0.97        15\n",
      "\n",
      "    accuracy                           0.97        30\n",
      "   macro avg       0.97      0.97      0.97        30\n",
      "weighted avg       0.97      0.97      0.97        30\n",
      "\n"
     ]
    }
   ],
   "source": [
    "# Precision, Recall, F-1 Score, Accuracy for Logistic Regression\n",
    "print(classification_report(y_test, y_lc_predicted))"
   ]
  },
  {
   "cell_type": "code",
   "execution_count": 71,
   "id": "b28e1a12",
   "metadata": {},
   "outputs": [
    {
     "data": {
      "text/plain": [
       "Text(0.5, 1.0, 'Logistic Regression Confusion Matrix')"
      ]
     },
     "execution_count": 71,
     "metadata": {},
     "output_type": "execute_result"
    },
    {
     "data": {
      "image/png": "[encoded data removed]",
      "text/plain": [
       "<Figure size 432x288 with 1 Axes>"
      ]
     },
     "metadata": {
      "needs_background": "light"
     },
     "output_type": "display_data"
    }
   ],
   "source": [
    "disp = ConfusionMatrixDisplay(confusion_matrix(y_test.ravel(), y_lc_predicted))  # Predicted compared to actual/test\n",
    "disp.plot(\n",
    "    include_values=True,\n",
    "    cmap='gray',\n",
    "    colorbar=False\n",
    ")\n",
    "disp.ax_.set_title(\"Logistic Regression Confusion Matrix\")"
   ]
  },
  {
   "cell_type": "code",
   "execution_count": 72,
   "id": "c84084b2",
   "metadata": {},
   "outputs": [
    {
     "data": {
      "image/png": "[encoded data removed]",
      "text/plain": [
       "<Figure size 2160x1080 with 1 Axes>"
      ]
     },
     "metadata": {
      "needs_background": "light"
     },
     "output_type": "display_data"
    }
   ],
   "source": [
    "# ROC Curve Plot\n",
    "plt.figure(figsize=(30, 15))\n",
    "fpr, tpr, thresholds = roc_curve(y_test, y_lc_pred_proba[:, 1]) #false-positive rate and true-positive rate \n",
    "auc_score = auc(fpr, tpr) # Area under the curve\n",
    "plt.plot(fpr, tpr, 'r', label='ROC curve')\n",
    "plt.title(f'Roc Curve - Logistic Regression - [AUC - {auc_score}]', fontsize=14)\n",
    "plt.xlabel('FPR', fontsize=12)\n",
    "plt.ylabel('TPR', fontsize=12)\n",
    "plt.legend()\n",
    "plt.show()"
   ]
  },
  {
   "cell_type": "markdown",
   "id": "17d06891",
   "metadata": {},
   "source": [
    "# 2. Support Vector Machine"
   ]
  },
  {
   "cell_type": "code",
   "execution_count": 73,
   "id": "eb8119c4",
   "metadata": {},
   "outputs": [
    {
     "name": "stdout",
     "output_type": "stream",
     "text": [
      "[1 0 0 1 1 0 1 1 0 0 0 1 0 1 0 1 0 1 0 1 1 1 0 0 1 0 0 1 1 1]\n",
      "[[0.42503369 0.57496631]\n",
      " [0.94330023 0.05669977]\n",
      " [0.95955253 0.04044747]\n",
      " [0.04697203 0.95302797]\n",
      " [0.04678394 0.95321606]\n",
      " [0.95520892 0.04479108]\n",
      " [0.01889074 0.98110926]\n",
      " [0.02857579 0.97142421]\n",
      " [0.80240677 0.19759323]\n",
      " [0.96461734 0.03538266]\n",
      " [0.96978055 0.03021945]\n",
      " [0.13222798 0.86777202]\n",
      " [0.81235015 0.18764985]\n",
      " [0.08467211 0.91532789]\n",
      " [0.95064956 0.04935044]\n",
      " [0.06829657 0.93170343]\n",
      " [0.95010229 0.04989771]\n",
      " [0.02918614 0.97081386]\n",
      " [0.95252781 0.04747219]\n",
      " [0.17873595 0.82126405]\n",
      " [0.019082   0.980918  ]\n",
      " [0.03911108 0.96088892]\n",
      " [0.90832317 0.09167683]\n",
      " [0.95808281 0.04191719]\n",
      " [0.03380989 0.96619011]\n",
      " [0.8860207  0.1139793 ]\n",
      " [0.93424691 0.06575309]\n",
      " [0.02845039 0.97154961]\n",
      " [0.37406881 0.62593119]\n",
      " [0.02343703 0.97656297]]\n"
     ]
    }
   ],
   "source": [
    "from sklearn.svm import SVC\n",
    "\n",
    "svc = SVC(probability=True)\n",
    "svc.fit(X_train, y_train)\n",
    "\n",
    "# Actual Predictions from SVC\n",
    "y_svc_predicted = svc.predict(X_test)\n",
    "# Probablilty of Assurance\n",
    "y_svc_pred_proba = svc.predict_proba(X_test)\n",
    "\n",
    "print(y_svc_predicted)\n",
    "print(y_svc_pred_proba)"
   ]
  },
  {
   "cell_type": "code",
   "execution_count": 74,
   "id": "be080e9d",
   "metadata": {},
   "outputs": [
    {
     "name": "stdout",
     "output_type": "stream",
     "text": [
      "              precision    recall  f1-score   support\n",
      "\n",
      "           0       1.00      0.93      0.97        15\n",
      "           1       0.94      1.00      0.97        15\n",
      "\n",
      "    accuracy                           0.97        30\n",
      "   macro avg       0.97      0.97      0.97        30\n",
      "weighted avg       0.97      0.97      0.97        30\n",
      "\n"
     ]
    }
   ],
   "source": [
    "# Precision, Recall, F-1 Score, Accuracy for SVC\n",
    "print(classification_report(y_test, y_svc_predicted))"
   ]
  },
  {
   "cell_type": "code",
   "execution_count": 75,
   "id": "7c95d025",
   "metadata": {},
   "outputs": [
    {
     "data": {
      "text/plain": [
       "Text(0.5, 1.0, 'Support Vector Confusion Matrix')"
      ]
     },
     "execution_count": 75,
     "metadata": {},
     "output_type": "execute_result"
    },
    {
     "data": {
      "image/png": "[encoded data removed]",
      "text/plain": [
       "<Figure size 432x288 with 1 Axes>"
      ]
     },
     "metadata": {
      "needs_background": "light"
     },
     "output_type": "display_data"
    }
   ],
   "source": [
    "disp = ConfusionMatrixDisplay(confusion_matrix(y_test.ravel(), y_svc_predicted))  # Predicted compared to actual/test\n",
    "disp.plot(\n",
    "    include_values=True,\n",
    "    cmap='gray',\n",
    "    colorbar=False\n",
    ")\n",
    "disp.ax_.set_title(\"Support Vector Confusion Matrix\")"
   ]
  },
  {
   "cell_type": "code",
   "execution_count": 76,
   "id": "a47633ed",
   "metadata": {},
   "outputs": [
    {
     "data": {
      "image/png": "[encoded data removed]",
      "text/plain": [
       "<Figure size 2160x1080 with 1 Axes>"
      ]
     },
     "metadata": {
      "needs_background": "light"
     },
     "output_type": "display_data"
    }
   ],
   "source": [
    "# ROC Curve Plot\n",
    "plt.figure(figsize=(30, 15))\n",
    "fpr, tpr, thresholds = roc_curve(y_test, y_svc_pred_proba[:, 1]) #false-positive rate and true-positive rate \n",
    "auc_score = auc(fpr, tpr) # Area under the curve\n",
    "plt.plot(fpr, tpr, 'r', label='ROC curve')\n",
    "plt.title(f'Roc Curve - Support Vector - [AUC - {auc_score}]', fontsize=14)\n",
    "plt.xlabel('FPR', fontsize=12)\n",
    "plt.ylabel('TPR', fontsize=12)\n",
    "plt.legend()\n",
    "plt.show()"
   ]
  },
  {
   "cell_type": "markdown",
   "id": "a532b461",
   "metadata": {},
   "source": [
    "# 3. Naive Bayes"
   ]
  },
  {
   "cell_type": "code",
   "execution_count": 77,
   "id": "84039125",
   "metadata": {},
   "outputs": [
    {
     "name": "stdout",
     "output_type": "stream",
     "text": [
      "[0 0 0 1 1 0 1 1 0 0 0 1 0 1 0 1 0 1 0 1 1 1 0 0 1 0 0 1 1 1]\n",
      "[[5.60882488e-01 4.39117512e-01]\n",
      " [9.99997995e-01 2.00543703e-06]\n",
      " [9.94614544e-01 5.38545595e-03]\n",
      " [1.42313129e-03 9.98576869e-01]\n",
      " [1.66604652e-03 9.98333953e-01]\n",
      " [9.99972576e-01 2.74236630e-05]\n",
      " [3.67138556e-03 9.96328614e-01]\n",
      " [4.20322759e-03 9.95796772e-01]\n",
      " [5.11906308e-01 4.88093692e-01]\n",
      " [9.99996510e-01 3.49024858e-06]\n",
      " [9.99981389e-01 1.86112087e-05]\n",
      " [4.99863948e-02 9.50013605e-01]\n",
      " [6.92566943e-01 3.07433057e-01]\n",
      " [2.28884117e-02 9.77111588e-01]\n",
      " [9.99983347e-01 1.66526992e-05]\n",
      " [1.79845104e-02 9.82015490e-01]\n",
      " [9.97485857e-01 2.51414298e-03]\n",
      " [8.68384929e-03 9.91316151e-01]\n",
      " [9.99730813e-01 2.69186739e-04]\n",
      " [1.33727682e-01 8.66272318e-01]\n",
      " [3.45559827e-03 9.96544402e-01]\n",
      " [2.40263712e-02 9.75973629e-01]\n",
      " [9.99956280e-01 4.37198803e-05]\n",
      " [9.99018071e-01 9.81929452e-04]\n",
      " [5.66568548e-03 9.94334315e-01]\n",
      " [9.89339080e-01 1.06609199e-02]\n",
      " [9.99199379e-01 8.00621301e-04]\n",
      " [8.81181728e-03 9.91188183e-01]\n",
      " [2.16938188e-01 7.83061812e-01]\n",
      " [1.36198627e-03 9.98638014e-01]]\n"
     ]
    }
   ],
   "source": [
    "from sklearn.naive_bayes import GaussianNB\n",
    "\n",
    "nbc = GaussianNB()\n",
    "nbc.fit(X_train, y_train)\n",
    "\n",
    "# Actual Predictions from SVC\n",
    "y_nbc_predicted = nbc.predict(X_test)\n",
    "# Probablilty of Assurance\n",
    "y_nbc_pred_proba = nbc.predict_proba(X_test)\n",
    "\n",
    "print(y_nbc_predicted)\n",
    "print(y_nbc_pred_proba)"
   ]
  },
  {
   "cell_type": "code",
   "execution_count": 78,
   "id": "ccf6e00d",
   "metadata": {},
   "outputs": [
    {
     "name": "stdout",
     "output_type": "stream",
     "text": [
      "              precision    recall  f1-score   support\n",
      "\n",
      "           0       1.00      1.00      1.00        15\n",
      "           1       1.00      1.00      1.00        15\n",
      "\n",
      "    accuracy                           1.00        30\n",
      "   macro avg       1.00      1.00      1.00        30\n",
      "weighted avg       1.00      1.00      1.00        30\n",
      "\n"
     ]
    }
   ],
   "source": [
    "# Precision, Recall, F-1 Score, Accuracy for NBC\n",
    "print(classification_report(y_test, y_nbc_predicted))"
   ]
  },
  {
   "cell_type": "code",
   "execution_count": 79,
   "id": "5284c9de",
   "metadata": {},
   "outputs": [
    {
     "data": {
      "text/plain": [
       "Text(0.5, 1.0, 'Naive Bayes Confusion Matrix')"
      ]
     },
     "execution_count": 79,
     "metadata": {},
     "output_type": "execute_result"
    },
    {
     "data": {
      "image/png": "[encoded data removed]",
      "text/plain": [
       "<Figure size 432x288 with 1 Axes>"
      ]
     },
     "metadata": {
      "needs_background": "light"
     },
     "output_type": "display_data"
    }
   ],
   "source": [
    "disp = ConfusionMatrixDisplay(confusion_matrix(y_test.ravel(), y_nbc_predicted))  # Predicted compared to actual/test\n",
    "disp.plot(\n",
    "    include_values=True,\n",
    "    cmap='gray',\n",
    "    colorbar=False\n",
    ")\n",
    "disp.ax_.set_title(\"Naive Bayes Confusion Matrix\")"
   ]
  },
  {
   "cell_type": "code",
   "execution_count": 80,
   "id": "431f38bb",
   "metadata": {},
   "outputs": [
    {
     "data": {
      "image/png": "[encoded data removed]",
      "text/plain": [
       "<Figure size 2160x1080 with 1 Axes>"
      ]
     },
     "metadata": {
      "needs_background": "light"
     },
     "output_type": "display_data"
    }
   ],
   "source": [
    "# ROC Curve Plot\n",
    "plt.figure(figsize=(30, 15))\n",
    "fpr, tpr, thresholds = roc_curve(y_test, y_nbc_pred_proba[:, 1]) #false-positive rate and true-positive rate \n",
    "auc_score = auc(fpr, tpr) # Area under the curve\n",
    "plt.plot(fpr, tpr, 'r', label='ROC curve')\n",
    "plt.title(f'Roc Curve - Naive Bayes - [AUC - {auc_score}]', fontsize=14)\n",
    "plt.xlabel('FPR', fontsize=12)\n",
    "plt.ylabel('TPR', fontsize=12)\n",
    "plt.legend()\n",
    "plt.show()"
   ]
  },
  {
   "cell_type": "markdown",
   "id": "acf01d90",
   "metadata": {},
   "source": [
    "# 4. Random Forest"
   ]
  },
  {
   "cell_type": "code",
   "execution_count": 81,
   "id": "c7a056d5",
   "metadata": {},
   "outputs": [
    {
     "name": "stdout",
     "output_type": "stream",
     "text": [
      "[1 0 0 1 1 0 1 1 0 0 0 1 0 1 0 1 0 1 0 1 1 1 0 0 1 0 0 1 1 1]\n",
      "[[0.48 0.52]\n",
      " [0.97 0.03]\n",
      " [1.   0.  ]\n",
      " [0.02 0.98]\n",
      " [0.   1.  ]\n",
      " [0.95 0.05]\n",
      " [0.   1.  ]\n",
      " [0.01 0.99]\n",
      " [0.59 0.41]\n",
      " [0.95 0.05]\n",
      " [0.96 0.04]\n",
      " [0.07 0.93]\n",
      " [0.64 0.36]\n",
      " [0.06 0.94]\n",
      " [1.   0.  ]\n",
      " [0.01 0.99]\n",
      " [0.99 0.01]\n",
      " [0.02 0.98]\n",
      " [0.91 0.09]\n",
      " [0.21 0.79]\n",
      " [0.   1.  ]\n",
      " [0.01 0.99]\n",
      " [0.82 0.18]\n",
      " [0.97 0.03]\n",
      " [0.1  0.9 ]\n",
      " [1.   0.  ]\n",
      " [0.98 0.02]\n",
      " [0.02 0.98]\n",
      " [0.49 0.51]\n",
      " [0.   1.  ]]\n"
     ]
    }
   ],
   "source": [
    "from sklearn.ensemble import RandomForestClassifier\n",
    "\n",
    "rfc = RandomForestClassifier()\n",
    "rfc.fit(X_train, y_train)\n",
    "\n",
    "# Actual Predictions from Random Forest\n",
    "y_rfc_predicted = rfc.predict(X_test)\n",
    "# Probablilty of Assurance\n",
    "y_rfc_pred_proba = rfc.predict_proba(X_test)\n",
    "\n",
    "print(y_rfc_predicted)\n",
    "print(y_rfc_pred_proba)"
   ]
  },
  {
   "cell_type": "code",
   "execution_count": 82,
   "id": "23c612d0",
   "metadata": {},
   "outputs": [
    {
     "name": "stdout",
     "output_type": "stream",
     "text": [
      "              precision    recall  f1-score   support\n",
      "\n",
      "           0       1.00      0.93      0.97        15\n",
      "           1       0.94      1.00      0.97        15\n",
      "\n",
      "    accuracy                           0.97        30\n",
      "   macro avg       0.97      0.97      0.97        30\n",
      "weighted avg       0.97      0.97      0.97        30\n",
      "\n"
     ]
    }
   ],
   "source": [
    "# Precision, Recall, F-1 Score, Accuracy for Random Forest\n",
    "print(classification_report(y_test, y_rfc_predicted))"
   ]
  },
  {
   "cell_type": "code",
   "execution_count": 83,
   "id": "9d3fef13",
   "metadata": {},
   "outputs": [
    {
     "data": {
      "text/plain": [
       "Text(0.5, 1.0, 'Random Forest Confusion Matrix')"
      ]
     },
     "execution_count": 83,
     "metadata": {},
     "output_type": "execute_result"
    },
    {
     "data": {
      "image/png": "[encoded data removed]",
      "text/plain": [
       "<Figure size 432x288 with 1 Axes>"
      ]
     },
     "metadata": {
      "needs_background": "light"
     },
     "output_type": "display_data"
    }
   ],
   "source": [
    "disp = ConfusionMatrixDisplay(confusion_matrix(y_test.ravel(), y_rfc_predicted))  # Predicted compared to actual/test\n",
    "disp.plot(\n",
    "    include_values=True,\n",
    "    cmap='gray',\n",
    "    colorbar=False\n",
    ")\n",
    "disp.ax_.set_title(\"Random Forest Confusion Matrix\")"
   ]
  },
  {
   "cell_type": "code",
   "execution_count": 84,
   "id": "5878210b",
   "metadata": {},
   "outputs": [
    {
     "data": {
      "image/png": "[encoded data removed]",
      "text/plain": [
       "<Figure size 2160x1080 with 1 Axes>"
      ]
     },
     "metadata": {
      "needs_background": "light"
     },
     "output_type": "display_data"
    }
   ],
   "source": [
    "# ROC Curve Plot\n",
    "plt.figure(figsize=(30, 15))\n",
    "fpr, tpr, thresholds = roc_curve(y_test, y_rfc_pred_proba[:, 1]) #false-positive rate and true-positive rate \n",
    "auc_score = auc(fpr, tpr) # Area under the curve\n",
    "plt.plot(fpr, tpr, 'r', label='ROC curve')\n",
    "plt.title(f'Roc Curve - Random Forest - [AUC - {auc_score}]', fontsize=14)\n",
    "plt.xlabel('FPR', fontsize=12)\n",
    "plt.ylabel('TPR', fontsize=12)\n",
    "plt.legend()\n",
    "plt.show()"
   ]
  },
  {
   "cell_type": "code",
   "execution_count": null,
   "id": "911fc6fc",
   "metadata": {},
   "outputs": [],
   "source": []
  }
 ],
 "metadata": {
  "kernelspec": {
   "display_name": "Python 3 (ipykernel)",
   "language": "python",
   "name": "python3"
  },
  "language_info": {
   "codemirror_mode": {
    "name": "ipython",
    "version": 3
   },
   "file_extension": ".py",
   "mimetype": "text/x-python",
   "name": "python",
   "nbconvert_exporter": "python",
   "pygments_lexer": "ipython3",
   "version": "3.9.12"
  }
 },
 "nbformat": 4,
 "nbformat_minor": 5
}
