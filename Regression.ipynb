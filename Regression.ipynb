{
 "cells": [
  {
   "cell_type": "markdown",
   "id": "29475d3d",
   "metadata": {},
   "source": [
    "# Regression"
   ]
  },
  {
   "cell_type": "code",
   "execution_count": 111,
   "id": "f0f01300",
   "metadata": {},
   "outputs": [],
   "source": [
    "import numpy as np \n",
    "import pandas as pd \n",
    "import matplotlib.pyplot as plt\n",
    "import seaborn as sns"
   ]
  },
  {
   "cell_type": "code",
   "execution_count": 112,
   "id": "1205e1ae",
   "metadata": {},
   "outputs": [
    {
     "data": {
      "text/html": [
       "<div>\n",
       "<style scoped>\n",
       "    .dataframe tbody tr th:only-of-type {\n",
       "        vertical-align: middle;\n",
       "    }\n",
       "\n",
       "    .dataframe tbody tr th {\n",
       "        vertical-align: top;\n",
       "    }\n",
       "\n",
       "    .dataframe thead th {\n",
       "        text-align: right;\n",
       "    }\n",
       "</style>\n",
       "<table border=\"1\" class=\"dataframe\">\n",
       "  <thead>\n",
       "    <tr style=\"text-align: right;\">\n",
       "      <th></th>\n",
       "      <th>Purchase</th>\n",
       "      <th>SUS</th>\n",
       "      <th>Duration</th>\n",
       "      <th>Gender</th>\n",
       "      <th>ASR_Error</th>\n",
       "      <th>Intent_Error</th>\n",
       "    </tr>\n",
       "  </thead>\n",
       "  <tbody>\n",
       "    <tr>\n",
       "      <th>0</th>\n",
       "      <td>1</td>\n",
       "      <td>84</td>\n",
       "      <td>254</td>\n",
       "      <td>0</td>\n",
       "      <td>3</td>\n",
       "      <td>2</td>\n",
       "    </tr>\n",
       "    <tr>\n",
       "      <th>1</th>\n",
       "      <td>0</td>\n",
       "      <td>58</td>\n",
       "      <td>247</td>\n",
       "      <td>0</td>\n",
       "      <td>6</td>\n",
       "      <td>9</td>\n",
       "    </tr>\n",
       "    <tr>\n",
       "      <th>2</th>\n",
       "      <td>0</td>\n",
       "      <td>56</td>\n",
       "      <td>125</td>\n",
       "      <td>1</td>\n",
       "      <td>6</td>\n",
       "      <td>8</td>\n",
       "    </tr>\n",
       "    <tr>\n",
       "      <th>3</th>\n",
       "      <td>0</td>\n",
       "      <td>55</td>\n",
       "      <td>22</td>\n",
       "      <td>0</td>\n",
       "      <td>11</td>\n",
       "      <td>7</td>\n",
       "    </tr>\n",
       "    <tr>\n",
       "      <th>4</th>\n",
       "      <td>1</td>\n",
       "      <td>95</td>\n",
       "      <td>262</td>\n",
       "      <td>0</td>\n",
       "      <td>2</td>\n",
       "      <td>3</td>\n",
       "    </tr>\n",
       "    <tr>\n",
       "      <th>...</th>\n",
       "      <td>...</td>\n",
       "      <td>...</td>\n",
       "      <td>...</td>\n",
       "      <td>...</td>\n",
       "      <td>...</td>\n",
       "      <td>...</td>\n",
       "    </tr>\n",
       "    <tr>\n",
       "      <th>95</th>\n",
       "      <td>0</td>\n",
       "      <td>57</td>\n",
       "      <td>358</td>\n",
       "      <td>0</td>\n",
       "      <td>13</td>\n",
       "      <td>7</td>\n",
       "    </tr>\n",
       "    <tr>\n",
       "      <th>96</th>\n",
       "      <td>1</td>\n",
       "      <td>93</td>\n",
       "      <td>71</td>\n",
       "      <td>0</td>\n",
       "      <td>3</td>\n",
       "      <td>0</td>\n",
       "    </tr>\n",
       "    <tr>\n",
       "      <th>97</th>\n",
       "      <td>0</td>\n",
       "      <td>80</td>\n",
       "      <td>34</td>\n",
       "      <td>1</td>\n",
       "      <td>0</td>\n",
       "      <td>9</td>\n",
       "    </tr>\n",
       "    <tr>\n",
       "      <th>98</th>\n",
       "      <td>1</td>\n",
       "      <td>82</td>\n",
       "      <td>49</td>\n",
       "      <td>1</td>\n",
       "      <td>4</td>\n",
       "      <td>1</td>\n",
       "    </tr>\n",
       "    <tr>\n",
       "      <th>99</th>\n",
       "      <td>1</td>\n",
       "      <td>78</td>\n",
       "      <td>213</td>\n",
       "      <td>0</td>\n",
       "      <td>1</td>\n",
       "      <td>4</td>\n",
       "    </tr>\n",
       "  </tbody>\n",
       "</table>\n",
       "<p>100 rows × 6 columns</p>\n",
       "</div>"
      ],
      "text/plain": [
       "    Purchase  SUS  Duration  Gender  ASR_Error  Intent_Error\n",
       "0          1   84       254       0          3             2\n",
       "1          0   58       247       0          6             9\n",
       "2          0   56       125       1          6             8\n",
       "3          0   55        22       0         11             7\n",
       "4          1   95       262       0          2             3\n",
       "..       ...  ...       ...     ...        ...           ...\n",
       "95         0   57       358       0         13             7\n",
       "96         1   93        71       0          3             0\n",
       "97         0   80        34       1          0             9\n",
       "98         1   82        49       1          4             1\n",
       "99         1   78       213       0          1             4\n",
       "\n",
       "[100 rows x 6 columns]"
      ]
     },
     "execution_count": 112,
     "metadata": {},
     "output_type": "execute_result"
    }
   ],
   "source": [
    "df = pd.read_csv('data.csv')\n",
    "# Exclude empty column \n",
    "df = df.drop('Unnamed: 6', axis = 1)\n",
    "df"
   ]
  },
  {
   "cell_type": "code",
   "execution_count": 113,
   "id": "0019fc60",
   "metadata": {},
   "outputs": [
    {
     "data": {
      "text/plain": [
       "Purchase        0\n",
       "SUS             0\n",
       "Duration        0\n",
       "Gender          0\n",
       "ASR_Error       0\n",
       "Intent_Error    0\n",
       "dtype: int64"
      ]
     },
     "execution_count": 113,
     "metadata": {},
     "output_type": "execute_result"
    }
   ],
   "source": [
    "df.isna().sum()\n",
    "# No empty fields"
   ]
  },
  {
   "cell_type": "code",
   "execution_count": 29,
   "id": "91b644da",
   "metadata": {},
   "outputs": [
    {
     "data": {
      "text/plain": [
       "Intent_Error   -0.693675\n",
       "ASR_Error      -0.662405\n",
       "Duration       -0.006631\n",
       "Gender          0.111523\n",
       "Purchase        0.661931\n",
       "SUS             1.000000\n",
       "Name: SUS, dtype: float64"
      ]
     },
     "execution_count": 29,
     "metadata": {},
     "output_type": "execute_result"
    }
   ],
   "source": [
    "# Data is already encoded, can skip that step\n",
    "# Evaluate the correlation between the\n",
    "# the independent variables and the dependent variable\n",
    "df.corr(method='pearson')['SUS'].sort_values()"
   ]
  },
  {
   "cell_type": "markdown",
   "id": "6dd898d0",
   "metadata": {},
   "source": [
    "### The strongest positive correlation is purchase and the Intent_Error and ASR_Error are strongly negatively correlated to SUS. "
   ]
  },
  {
   "cell_type": "code",
   "execution_count": 36,
   "id": "c4bc8b9f",
   "metadata": {},
   "outputs": [
    {
     "data": {
      "image/png": "[encoded data removed]",
      "text/plain": [
       "<Figure size 432x288 with 1 Axes>"
      ]
     },
     "metadata": {
      "needs_background": "light"
     },
     "output_type": "display_data"
    }
   ],
   "source": [
    "sns.histplot(data = df['SUS'], palette = \"mako\")\n",
    "plt.show()"
   ]
  },
  {
   "cell_type": "code",
   "execution_count": 31,
   "id": "13be9bdf",
   "metadata": {},
   "outputs": [
    {
     "data": {
      "image/png": "[encoded data removed]",
      "text/plain": [
       "<Figure size 432x288 with 1 Axes>"
      ]
     },
     "metadata": {
      "needs_background": "light"
     },
     "output_type": "display_data"
    }
   ],
   "source": [
    "sns.boxplot(data = df['SUS'], orient = \"h\", palette = \"mako\")\n",
    "plt.show()"
   ]
  },
  {
   "cell_type": "markdown",
   "id": "c452c21a",
   "metadata": {},
   "source": [
    "### A SUS score of 68 is considerd average, so the majority of our responses fall into the above average range. "
   ]
  },
  {
   "cell_type": "code",
   "execution_count": 34,
   "id": "76cd960c",
   "metadata": {},
   "outputs": [
    {
     "data": {
      "text/plain": [
       "<Figure size 1152x648 with 0 Axes>"
      ]
     },
     "metadata": {},
     "output_type": "display_data"
    },
    {
     "data": {
      "image/png": "[encoded data removed]",
      "text/plain": [
       "<Figure size 360x360 with 1 Axes>"
      ]
     },
     "metadata": {
      "needs_background": "light"
     },
     "output_type": "display_data"
    }
   ],
   "source": [
    "# Distribution of those who purchased a ticket\n",
    "plt.figure(figsize=(16, 9))\n",
    "sns.displot(df.loc[df['Purchase'] == 1]['SUS'], color = 'g')\n",
    "plt.show()"
   ]
  },
  {
   "cell_type": "code",
   "execution_count": 37,
   "id": "74354204",
   "metadata": {},
   "outputs": [
    {
     "data": {
      "text/plain": [
       "<Figure size 1152x648 with 0 Axes>"
      ]
     },
     "metadata": {},
     "output_type": "display_data"
    },
    {
     "data": {
      "image/png": "[encoded data removed]",
      "text/plain": [
       "<Figure size 360x360 with 1 Axes>"
      ]
     },
     "metadata": {
      "needs_background": "light"
     },
     "output_type": "display_data"
    }
   ],
   "source": [
    "# Distribution of those who didn't purchased a ticket\n",
    "plt.figure(figsize=(16, 9))\n",
    "sns.displot(df.loc[df['Purchase'] == 0]['SUS'], color = 'r')\n",
    "plt.show()"
   ]
  },
  {
   "cell_type": "markdown",
   "id": "dbe337ce",
   "metadata": {},
   "source": [
    "### For those who purchased, the SUS scores are skewed left, while those who didn't it normally distribuited\n",
    "### Could this be explained by individuals who uses the service to buy tickets and decided to not in the end and less with difficulty of use."
   ]
  },
  {
   "cell_type": "code",
   "execution_count": 41,
   "id": "1bedced3",
   "metadata": {},
   "outputs": [
    {
     "data": {
      "image/png": "[encoded data removed]",
      "text/plain": [
       "<Figure size 1152x648 with 1 Axes>"
      ]
     },
     "metadata": {
      "needs_background": "light"
     },
     "output_type": "display_data"
    }
   ],
   "source": [
    "plt.figure(figsize=(16, 9))\n",
    "sns.boxplot(x=\"Gender\", y=\"SUS\", hue=\"Purchase\", data=df, palette='rocket')\n",
    "plt.show()"
   ]
  },
  {
   "cell_type": "markdown",
   "id": "0517fd6a",
   "metadata": {},
   "source": [
    "### Between both genders, if they purchased a ticket is more important to a higher SUS score. "
   ]
  },
  {
   "cell_type": "code",
   "execution_count": 110,
   "id": "16b1f3b1",
   "metadata": {},
   "outputs": [],
   "source": [
    "import statsmodels.api as sm\n",
    "\n",
    "y = df['SUS'] # dependent variable, what we want to predict\n",
    "x = df.drop('SUS', axis = 1) # independent variables, what we want to predict with"
   ]
  },
  {
   "cell_type": "code",
   "execution_count": 92,
   "id": "f8c3714a",
   "metadata": {},
   "outputs": [],
   "source": [
    "x = sm.add_constant(x)\n",
    "\n",
    "model = sm.OLS(y, x).fit() # Compute OLS with x and y data"
   ]
  },
  {
   "cell_type": "code",
   "execution_count": 93,
   "id": "5c9a4803",
   "metadata": {},
   "outputs": [],
   "source": [
    "from sklearn.linear_model import LinearRegression\n",
    "from sklearn.model_selection import train_test_split\n",
    "from sklearn.preprocessing import PolynomialFeatures\n",
    "from sklearn.metrics import r2_score,mean_squared_error"
   ]
  },
  {
   "cell_type": "code",
   "execution_count": 94,
   "id": "1d9031b4",
   "metadata": {},
   "outputs": [],
   "source": [
    "# randomly split independent and dependent data into training and testing subsets\n",
    "x_train, x_test, y_train, y_test = train_test_split(x,y)"
   ]
  },
  {
   "cell_type": "code",
   "execution_count": 95,
   "id": "aa1aa021",
   "metadata": {},
   "outputs": [],
   "source": [
    "lr = LinearRegression().fit(x_train,y_train)\n",
    "\n",
    "y_train_pred = lr.predict(x_train)\n",
    "y_test_pred = lr.predict(x_test)"
   ]
  },
  {
   "cell_type": "code",
   "execution_count": 101,
   "id": "052e3420",
   "metadata": {},
   "outputs": [
    {
     "data": {
      "text/html": [
       "<div>\n",
       "<style scoped>\n",
       "    .dataframe tbody tr th:only-of-type {\n",
       "        vertical-align: middle;\n",
       "    }\n",
       "\n",
       "    .dataframe tbody tr th {\n",
       "        vertical-align: top;\n",
       "    }\n",
       "\n",
       "    .dataframe thead th {\n",
       "        text-align: right;\n",
       "    }\n",
       "</style>\n",
       "<table border=\"1\" class=\"dataframe\">\n",
       "  <thead>\n",
       "    <tr style=\"text-align: right;\">\n",
       "      <th></th>\n",
       "      <th>const</th>\n",
       "      <th>Purchase</th>\n",
       "      <th>Duration</th>\n",
       "      <th>Gender</th>\n",
       "      <th>ASR_Error</th>\n",
       "      <th>Intent_Error</th>\n",
       "    </tr>\n",
       "  </thead>\n",
       "  <tbody>\n",
       "    <tr>\n",
       "      <th>81</th>\n",
       "      <td>1.0</td>\n",
       "      <td>0</td>\n",
       "      <td>108</td>\n",
       "      <td>0</td>\n",
       "      <td>6</td>\n",
       "      <td>11</td>\n",
       "    </tr>\n",
       "    <tr>\n",
       "      <th>70</th>\n",
       "      <td>1.0</td>\n",
       "      <td>1</td>\n",
       "      <td>78</td>\n",
       "      <td>0</td>\n",
       "      <td>3</td>\n",
       "      <td>2</td>\n",
       "    </tr>\n",
       "    <tr>\n",
       "      <th>96</th>\n",
       "      <td>1.0</td>\n",
       "      <td>1</td>\n",
       "      <td>71</td>\n",
       "      <td>0</td>\n",
       "      <td>3</td>\n",
       "      <td>0</td>\n",
       "    </tr>\n",
       "    <tr>\n",
       "      <th>45</th>\n",
       "      <td>1.0</td>\n",
       "      <td>1</td>\n",
       "      <td>184</td>\n",
       "      <td>1</td>\n",
       "      <td>2</td>\n",
       "      <td>3</td>\n",
       "    </tr>\n",
       "    <tr>\n",
       "      <th>69</th>\n",
       "      <td>1.0</td>\n",
       "      <td>1</td>\n",
       "      <td>342</td>\n",
       "      <td>0</td>\n",
       "      <td>1</td>\n",
       "      <td>3</td>\n",
       "    </tr>\n",
       "    <tr>\n",
       "      <th>...</th>\n",
       "      <td>...</td>\n",
       "      <td>...</td>\n",
       "      <td>...</td>\n",
       "      <td>...</td>\n",
       "      <td>...</td>\n",
       "      <td>...</td>\n",
       "    </tr>\n",
       "    <tr>\n",
       "      <th>17</th>\n",
       "      <td>1.0</td>\n",
       "      <td>1</td>\n",
       "      <td>221</td>\n",
       "      <td>0</td>\n",
       "      <td>3</td>\n",
       "      <td>4</td>\n",
       "    </tr>\n",
       "    <tr>\n",
       "      <th>15</th>\n",
       "      <td>1.0</td>\n",
       "      <td>0</td>\n",
       "      <td>126</td>\n",
       "      <td>0</td>\n",
       "      <td>8</td>\n",
       "      <td>9</td>\n",
       "    </tr>\n",
       "    <tr>\n",
       "      <th>51</th>\n",
       "      <td>1.0</td>\n",
       "      <td>0</td>\n",
       "      <td>193</td>\n",
       "      <td>1</td>\n",
       "      <td>11</td>\n",
       "      <td>5</td>\n",
       "    </tr>\n",
       "    <tr>\n",
       "      <th>56</th>\n",
       "      <td>1.0</td>\n",
       "      <td>1</td>\n",
       "      <td>119</td>\n",
       "      <td>0</td>\n",
       "      <td>0</td>\n",
       "      <td>8</td>\n",
       "    </tr>\n",
       "    <tr>\n",
       "      <th>33</th>\n",
       "      <td>1.0</td>\n",
       "      <td>1</td>\n",
       "      <td>178</td>\n",
       "      <td>1</td>\n",
       "      <td>3</td>\n",
       "      <td>4</td>\n",
       "    </tr>\n",
       "  </tbody>\n",
       "</table>\n",
       "<p>75 rows × 6 columns</p>\n",
       "</div>"
      ],
      "text/plain": [
       "    const  Purchase  Duration  Gender  ASR_Error  Intent_Error\n",
       "81    1.0         0       108       0          6            11\n",
       "70    1.0         1        78       0          3             2\n",
       "96    1.0         1        71       0          3             0\n",
       "45    1.0         1       184       1          2             3\n",
       "69    1.0         1       342       0          1             3\n",
       "..    ...       ...       ...     ...        ...           ...\n",
       "17    1.0         1       221       0          3             4\n",
       "15    1.0         0       126       0          8             9\n",
       "51    1.0         0       193       1         11             5\n",
       "56    1.0         1       119       0          0             8\n",
       "33    1.0         1       178       1          3             4\n",
       "\n",
       "[75 rows x 6 columns]"
      ]
     },
     "execution_count": 101,
     "metadata": {},
     "output_type": "execute_result"
    }
   ],
   "source": [
    "# independent training data\n",
    "x_train"
   ]
  },
  {
   "cell_type": "code",
   "execution_count": 100,
   "id": "734aad38",
   "metadata": {},
   "outputs": [
    {
     "data": {
      "text/plain": [
       "array([61.40648392, 85.00878178, 89.34303196, 85.1740705 , 86.53085486,\n",
       "       88.60822663, 51.73618258, 89.74612198, 85.84109607, 84.44404279,\n",
       "       80.50707571, 88.38499691, 76.59966489, 61.85055888, 60.937434  ,\n",
       "       63.73646093, 67.4342053 , 62.00050882, 62.75007328, 69.67469225,\n",
       "       78.3797838 , 66.30645121, 81.59495935, 70.66763258, 61.88847309,\n",
       "       61.68185453, 86.34740598, 58.85395478, 70.04446451, 70.3745475 ,\n",
       "       61.72297344, 83.92055084, 62.10820384, 58.62314944, 83.52942196,\n",
       "       65.34979276, 85.60586041, 64.82651174, 87.86008357, 74.28941217,\n",
       "       83.8354463 , 74.40196815, 58.79459238, 70.76514154, 82.33074281,\n",
       "       69.02382579, 66.35128683, 75.20735124, 78.60230573, 74.02377611,\n",
       "       84.25665168, 75.47005294, 87.75385475, 91.80005956, 77.90833436,\n",
       "       66.32284267, 84.88660479, 82.27093713, 82.5303654 , 61.15928713,\n",
       "       80.82342887, 63.1614847 , 79.38579735, 89.98676608, 86.88069189,\n",
       "       64.41146058, 72.99760959, 89.75670652, 63.97869255, 57.31597833,\n",
       "       81.21676973, 63.18983729, 68.80388411, 76.06163155, 81.64378202])"
      ]
     },
     "execution_count": 100,
     "metadata": {},
     "output_type": "execute_result"
    }
   ],
   "source": [
    "# dependent predicitons (Linear Regression)\n",
    "y_train_pred"
   ]
  },
  {
   "cell_type": "code",
   "execution_count": 118,
   "id": "1422f59d",
   "metadata": {},
   "outputs": [],
   "source": [
    "# Fitting data to a quadratic curve instead of a line\n",
    "quad = PolynomialFeatures(degree = 2)\n",
    "x_quad = quad.fit_transform(x)\n",
    "\n",
    "# Split it not random each time, so R Squared value is constant\n",
    "X_train, X_test, Y_train, Y_test = train_test_split(x_quad, y)\n",
    "\n",
    "plr = LinearRegression().fit(X_train, Y_train)\n",
    "\n",
    "Y_train_pred = plr.predict(X_train)\n",
    "Y_test_pred = plr.predict(X_test)"
   ]
  },
  {
   "cell_type": "code",
   "execution_count": 119,
   "id": "dc4f7ca5",
   "metadata": {},
   "outputs": [
    {
     "data": {
      "text/plain": [
       "array([[  1.,   0.,  57., ...,  64.,  24.,   9.],\n",
       "       [  1.,   0., 190., ..., 121.,  44.,  16.],\n",
       "       [  1.,   1., 208., ...,   0.,   0.,  16.],\n",
       "       ...,\n",
       "       [  1.,   1., 202., ...,   9.,   9.,   9.],\n",
       "       [  1.,   0., 132., ...,  81.,  81.,  81.],\n",
       "       [  1.,   0.,  46., ...,  36.,  66., 121.]])"
      ]
     },
     "execution_count": 119,
     "metadata": {},
     "output_type": "execute_result"
    }
   ],
   "source": [
    "# independent training data\n",
    "X_train"
   ]
  },
  {
   "cell_type": "code",
   "execution_count": 120,
   "id": "0edabab7",
   "metadata": {},
   "outputs": [
    {
     "data": {
      "text/plain": [
       "array([74.05707703, 73.49973363, 90.37070801, 71.27134465, 81.88393001,\n",
       "       74.99832681, 67.66485179, 92.17257708, 67.33023614, 69.99871454,\n",
       "       88.85867393, 58.75424324, 63.61140844, 70.83161364, 78.36465865,\n",
       "       61.00076616, 63.9076355 , 63.2252668 , 76.50596761, 69.85819379,\n",
       "       69.82252054, 87.31697257, 80.53184444, 77.05285275, 72.7893494 ,\n",
       "       85.94136274, 59.4303319 , 65.77909521, 69.78820386, 60.1191487 ,\n",
       "       85.76628358, 79.53503542, 79.65879658, 81.86513257, 96.38190478,\n",
       "       70.17597765, 70.46784167, 65.09784803, 93.63743624, 88.03397847,\n",
       "       83.14051061, 84.5639303 , 86.02601969, 60.52318912, 64.01766974,\n",
       "       60.55368509, 88.3423218 , 80.5885355 , 60.5804065 , 59.39662132,\n",
       "       62.52010231, 82.74437445, 88.83901161, 93.3334975 , 90.21234427,\n",
       "       80.85187439, 69.23245626, 94.01740037, 90.11397595, 69.92041085,\n",
       "       85.56549653, 69.6593272 , 56.81201311, 66.33448179, 54.2364583 ,\n",
       "       60.3656096 , 56.16793493, 85.37362164, 56.4077828 , 76.42418468,\n",
       "       92.75448498, 64.35007766, 85.74481221, 62.87737588, 61.05015654])"
      ]
     },
     "execution_count": 120,
     "metadata": {},
     "output_type": "execute_result"
    }
   ],
   "source": [
    "# dependent predicitons (2-order Polynomial Regression)\n",
    "Y_train_pred"
   ]
  },
  {
   "cell_type": "markdown",
   "id": "ac05143d",
   "metadata": {},
   "source": [
    "## 1. Show the statistical results of your trained regression model."
   ]
  },
  {
   "cell_type": "markdown",
   "id": "95ec26f2",
   "metadata": {},
   "source": [
    "### Least Squares Results"
   ]
  },
  {
   "cell_type": "code",
   "execution_count": 106,
   "id": "b32940ad",
   "metadata": {},
   "outputs": [
    {
     "name": "stdout",
     "output_type": "stream",
     "text": [
      "                            OLS Regression Results                            \n",
      "==============================================================================\n",
      "Dep. Variable:                    SUS   R-squared:                       0.593\n",
      "Model:                            OLS   Adj. R-squared:                  0.571\n",
      "Method:                 Least Squares   F-statistic:                     27.39\n",
      "Date:                Tue, 14 Feb 2023   Prob (F-statistic):           5.25e-17\n",
      "Time:                        16:19:24   Log-Likelihood:                -362.39\n",
      "No. Observations:                 100   AIC:                             736.8\n",
      "Df Residuals:                      94   BIC:                             752.4\n",
      "Df Model:                           5                                         \n",
      "Covariance Type:            nonrobust                                         \n",
      "================================================================================\n",
      "                   coef    std err          t      P>|t|      [0.025      0.975]\n",
      "--------------------------------------------------------------------------------\n",
      "const           93.0282      5.541     16.788      0.000      82.026     104.031\n",
      "Purchase         1.3412      3.676      0.365      0.716      -5.958       8.641\n",
      "Duration        -0.0002      0.010     -0.025      0.980      -0.020       0.019\n",
      "Gender           0.8367      1.971      0.425      0.672      -3.076       4.749\n",
      "ASR_Error       -1.4254      0.401     -3.553      0.001      -2.222      -0.629\n",
      "Intent_Error    -2.0092      0.439     -4.572      0.000      -2.882      -1.137\n",
      "==============================================================================\n",
      "Omnibus:                        6.969   Durbin-Watson:                   2.023\n",
      "Prob(Omnibus):                  0.031   Jarque-Bera (JB):                8.115\n",
      "Skew:                          -0.378   Prob(JB):                       0.0173\n",
      "Kurtosis:                       4.173   Cond. No.                     1.27e+03\n",
      "==============================================================================\n",
      "\n",
      "Notes:\n",
      "[1] Standard Errors assume that the covariance matrix of the errors is correctly specified.\n",
      "[2] The condition number is large, 1.27e+03. This might indicate that there are\n",
      "strong multicollinearity or other numerical problems.\n"
     ]
    }
   ],
   "source": [
    "print(model.summary())"
   ]
  },
  {
   "cell_type": "markdown",
   "id": "ecc24b9a",
   "metadata": {},
   "source": [
    "### Linear Regression"
   ]
  },
  {
   "cell_type": "code",
   "execution_count": 107,
   "id": "227d216b",
   "metadata": {},
   "outputs": [
    {
     "name": "stdout",
     "output_type": "stream",
     "text": [
      "The R square score of linear regression model is:  0.7322885247405222\n"
     ]
    }
   ],
   "source": [
    "print(\"The R square score of linear regression model is: \", lr.score(x_test,y_test))"
   ]
  },
  {
   "cell_type": "markdown",
   "id": "153d0b4a",
   "metadata": {},
   "source": [
    "#### R squared value changes drastically between runs. Probably insufficient data."
   ]
  },
  {
   "cell_type": "code",
   "execution_count": 121,
   "id": "1406518d",
   "metadata": {},
   "outputs": [
    {
     "name": "stdout",
     "output_type": "stream",
     "text": [
      "The R square score of 2-order polynomial regression model is:  0.4186404549886158\n"
     ]
    }
   ],
   "source": [
    "print(\"The R square score of 2-order polynomial regression model is: \", plr.score(X_test, Y_test))"
   ]
  },
  {
   "cell_type": "markdown",
   "id": "fbbc2166",
   "metadata": {},
   "source": [
    "## 2. What features are significant? What features are insignificant?"
   ]
  },
  {
   "cell_type": "markdown",
   "id": "54257eda",
   "metadata": {},
   "source": [
    "### From the OLS model summary, the features with the lowest P value and therefore the most significance to prediciting the SUS score are ASR_error and Intent_error: 0.001 and 0.000 respectively. Purchase, Duration, and Gender have much higher P values and are not statistically significant."
   ]
  },
  {
   "cell_type": "markdown",
   "id": "ef6a8fdb",
   "metadata": {},
   "source": [
    "## 3. Were the results what you expected? Explain why or why not, for each feature."
   ]
  },
  {
   "cell_type": "markdown",
   "id": "bbd34f1c",
   "metadata": {},
   "source": [
    "### I expected the Purchase feature to have stronger significance, on the same level as the error rates. From the plots and correlation analysis it seemed it drived SUS scores as much as the error rates. From the data it did not seem the gender of the user nor the duration of the interation were going to have strong weight."
   ]
  },
  {
   "cell_type": "markdown",
   "id": "1763f5d2",
   "metadata": {},
   "source": [
    "## 4. What does the model suggest is the most influential factor on SUS? Explain what tells you this is the most influential factor statistically."
   ]
  },
  {
   "cell_type": "markdown",
   "id": "4016850f",
   "metadata": {},
   "source": [
    "### The most influential factors on SUS are the error rates. The P-values show that if the the error rates of the machine were not a factor, then we would not expect to see our results 99% of the time. This puts it into perspective. Without the error rates, we do not see why user satisfaction is effected."
   ]
  },
  {
   "cell_type": "markdown",
   "id": "138c1f9f",
   "metadata": {},
   "source": [
    "## 5. What are the potential reasons for these factor(s) being significant predictors of SUS?"
   ]
  },
  {
   "cell_type": "markdown",
   "id": "c83e2294",
   "metadata": {},
   "source": [
    "### The SUS asks a series of questions to guage the user's experience with the technology. A user who encountered a series of errors would be likely to answer these questions in a manner that lowers the SUS score. The question \"I think that I would need the support of a technical person to be able to use this system.\" probably would be one that guages how smoothly the experience went. Furthermore, it's entirely possible for people to buy tickets and rate the system low in SUS. Maybe they tough it out, experiencing errors along the way but need to get this ticket. Their need of this service would further drive them to rate the experience as a negative one. "
   ]
  },
  {
   "cell_type": "code",
   "execution_count": null,
   "id": "16e8023d",
   "metadata": {},
   "outputs": [],
   "source": []
  }
 ],
 "metadata": {
  "kernelspec": {
   "display_name": "Python 3 (ipykernel)",
   "language": "python",
   "name": "python3"
  },
  "language_info": {
   "codemirror_mode": {
    "name": "ipython",
    "version": 3
   },
   "file_extension": ".py",
   "mimetype": "text/x-python",
   "name": "python",
   "nbconvert_exporter": "python",
   "pygments_lexer": "ipython3",
   "version": "3.9.12"
  }
 },
 "nbformat": 4,
 "nbformat_minor": 5
}
